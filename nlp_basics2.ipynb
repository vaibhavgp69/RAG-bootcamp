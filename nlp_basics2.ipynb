{
  "nbformat": 4,
  "nbformat_minor": 0,
  "metadata": {
    "colab": {
      "provenance": []
    },
    "kernelspec": {
      "name": "python3",
      "display_name": "Python 3"
    },
    "language_info": {
      "name": "python"
    }
  },
  "cells": [
    {
      "cell_type": "code",
      "execution_count": null,
      "metadata": {
        "colab": {
          "base_uri": "https://localhost:8080/"
        },
        "id": "NhGTB4MPyYfm",
        "outputId": "c5cc10a1-022c-47c6-c6de-5737e8a9a248"
      },
      "outputs": [
        {
          "output_type": "stream",
          "name": "stdout",
          "text": [
            "--2023-04-08 08:45:03--  https://lazyprogrammer.me/course_files/nlp/GoogleNews-vectors-negative300.bin.gz\n",
            "Resolving lazyprogrammer.me (lazyprogrammer.me)... 104.21.23.210, 172.67.213.166, 2606:4700:3031::6815:17d2, ...\n",
            "Connecting to lazyprogrammer.me (lazyprogrammer.me)|104.21.23.210|:443... connected.\n",
            "HTTP request sent, awaiting response... 200 OK\n",
            "Length: 1647046227 (1.5G) [application/x-gzip]\n",
            "Saving to: ‘GoogleNews-vectors-negative300.bin.gz’\n",
            "\n",
            "GoogleNews-vectors- 100%[===================>]   1.53G  11.3MB/s    in 89s     \n",
            "\n",
            "2023-04-08 08:46:32 (17.6 MB/s) - ‘GoogleNews-vectors-negative300.bin.gz’ saved [1647046227/1647046227]\n",
            "\n"
          ]
        }
      ],
      "source": [
        "!wget -nc https://lazyprogrammer.me/course_files/nlp/GoogleNews-vectors-negative300.bin.gz"
      ]
    },
    {
      "cell_type": "code",
      "source": [
        "!gunzip GoogleNews-vectors-negative300.bin.gz"
      ],
      "metadata": {
        "id": "xwneIwDxC1jL"
      },
      "execution_count": null,
      "outputs": []
    },
    {
      "cell_type": "code",
      "source": [
        "from gensim.models import KeyedVectors"
      ],
      "metadata": {
        "id": "WHsS6woOC61T"
      },
      "execution_count": null,
      "outputs": []
    },
    {
      "cell_type": "code",
      "source": [
        "word_vec=KeyedVectors.load_word2vec_format('GoogleNews-vectors-negative300.bin',binary=True)"
      ],
      "metadata": {
        "id": "xXxbblWADDc9"
      },
      "execution_count": null,
      "outputs": []
    },
    {
      "cell_type": "code",
      "source": [
        "def find_analogies(w1,w2,w3):\n",
        "\n",
        "  #king-man=____ - woman\n",
        "  #_____ = - man + king + woman\n",
        "  r=word_vec.most_similar(positive=[w1,w3],negative=[w2])\n",
        "  print('%s  -  %s  ==  %s  -  %s'%(w1,w2,r[0][0],w3))\n",
        "  print(\"\\nall guessed vals: \")\n",
        "  for rr in r:\n",
        "    print(rr[0])"
      ],
      "metadata": {
        "id": "78aZFDO8DdLd"
      },
      "execution_count": null,
      "outputs": []
    },
    {
      "cell_type": "code",
      "source": [
        "find_analogies('prince','princess','queen')"
      ],
      "metadata": {
        "colab": {
          "base_uri": "https://localhost:8080/"
        },
        "id": "Xyx1uMIaEMBi",
        "outputId": "9dd161d8-510b-427c-a19c-a0dd78e78ef2"
      },
      "execution_count": null,
      "outputs": [
        {
          "output_type": "stream",
          "name": "stdout",
          "text": [
            "prince  -  princess  ==  king  -  queen\n",
            "\n",
            "all guessed vals: \n",
            "king\n",
            "monarch\n",
            "princes\n",
            "royal\n",
            "royals\n",
            "Prince_Charles\n",
            "duchess\n",
            "palace\n",
            "Queen_Elizabeth_II\n",
            "Queen_Consort\n"
          ]
        }
      ]
    },
    {
      "cell_type": "code",
      "source": [
        "def nearest_neighours(w):\n",
        "  r=word_vec.most_similar(positive=[w],topn=20)\n",
        "  for rr in r:\n",
        "    print(rr[0])"
      ],
      "metadata": {
        "id": "HGFNBqX1JFpA"
      },
      "execution_count": null,
      "outputs": []
    },
    {
      "cell_type": "code",
      "source": [
        "nearest_neighours('hitler')"
      ],
      "metadata": {
        "colab": {
          "base_uri": "https://localhost:8080/"
        },
        "id": "Od2yqVRPJS_6",
        "outputId": "0e41913b-42f3-41ce-a943-bf96023f9fcd"
      },
      "execution_count": null,
      "outputs": [
        {
          "output_type": "stream",
          "name": "stdout",
          "text": [
            "stalin\n",
            "george_bush\n",
            "hussein\n",
            "reagan\n",
            "chavez\n",
            "hillary\n",
            "jesus\n",
            "osama\n",
            "ron_paul\n",
            "jimmy_carter\n",
            "sharpton\n",
            "obama\n",
            "kkk\n",
            "carl\n",
            "obamas\n",
            "gordon_brown\n",
            "nazis\n",
            "jews\n",
            "rahm\n",
            "george_washington\n"
          ]
        }
      ]
    }
  ]
}