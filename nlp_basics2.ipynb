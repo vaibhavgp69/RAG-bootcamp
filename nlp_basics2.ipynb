{
  "nbformat": 4,
  "nbformat_minor": 0,
  "metadata": {
    "colab": {
      "provenance": [],
      "authorship_tag": "ABX9TyMre9tMuByfTwjQPIWJA4PC",
      "include_colab_link": true
    },
    "kernelspec": {
      "name": "python3",
      "display_name": "Python 3"
    },
    "language_info": {
      "name": "python"
    }
  },
  "cells": [
    {
      "cell_type": "markdown",
      "metadata": {
        "id": "view-in-github",
        "colab_type": "text"
      },
      "source": [
        "<a href=\"https://colab.research.google.com/github/vaibhavgp69/RAG-bootcamp/blob/main/nlp_basics2.ipynb\" target=\"_parent\"><img src=\"https://colab.research.google.com/assets/colab-badge.svg\" alt=\"Open In Colab\"/></a>"
      ]
    },
    {
      "cell_type": "code",
      "execution_count": 14,
      "metadata": {
        "colab": {
          "base_uri": "https://localhost:8080/"
        },
        "id": "NhGTB4MPyYfm",
        "outputId": "f64d47fd-d4df-43e5-c88a-ec1eb496eab6"
      },
      "outputs": [
        {
          "output_type": "stream",
          "name": "stdout",
          "text": [
            "Dataset URL: https://www.kaggle.com/datasets/leadbest/googlenewsvectorsnegative300\n",
            "License(s): other\n",
            "Downloading googlenewsvectorsnegative300.zip to /content\n",
            "100% 3.17G/3.17G [00:47<00:00, 93.1MB/s]\n",
            "100% 3.17G/3.17G [00:47<00:00, 72.0MB/s]\n"
          ]
        }
      ],
      "source": [
        "!kaggle datasets download -d leadbest/googlenewsvectorsnegative300\n",
        "\n"
      ]
    },
    {
      "cell_type": "code",
      "source": [
        "!unzip /content/googlenewsvectorsnegative300.zip"
      ],
      "metadata": {
        "id": "xwneIwDxC1jL",
        "colab": {
          "base_uri": "https://localhost:8080/"
        },
        "outputId": "55388d48-69d1-49b2-f6fe-8a0928d0b9e6"
      },
      "execution_count": 16,
      "outputs": [
        {
          "output_type": "stream",
          "name": "stdout",
          "text": [
            "Archive:  /content/googlenewsvectorsnegative300.zip\n",
            "  inflating: GoogleNews-vectors-negative300.bin  \n",
            "  inflating: GoogleNews-vectors-negative300.bin.gz  \n"
          ]
        }
      ]
    },
    {
      "cell_type": "code",
      "source": [
        "from gensim.models import KeyedVectors"
      ],
      "metadata": {
        "id": "WHsS6woOC61T"
      },
      "execution_count": 17,
      "outputs": []
    },
    {
      "cell_type": "code",
      "source": [
        "word_vec=KeyedVectors.load_word2vec_format('/content/GoogleNews-vectors-negative300.bin',binary=True)"
      ],
      "metadata": {
        "id": "xXxbblWADDc9"
      },
      "execution_count": 18,
      "outputs": []
    },
    {
      "cell_type": "code",
      "source": [
        "def find_analogies(w1,w2,w3):\n",
        "\n",
        "  #king-man=____ - woman\n",
        "  #_____ = - man + king + woman\n",
        "  r=word_vec.most_similar(positive=[w1,w3],negative=[w2])\n",
        "  print('%s  -  %s  ==  %s  -  %s'%(w1,w2,r[0][0],w3))\n",
        "  print(\"\\nall guessed vals: \")\n",
        "  for rr in r:\n",
        "    print(rr[0])"
      ],
      "metadata": {
        "id": "78aZFDO8DdLd"
      },
      "execution_count": 19,
      "outputs": []
    },
    {
      "cell_type": "code",
      "source": [
        "find_analogies('prince','princess','queen')"
      ],
      "metadata": {
        "colab": {
          "base_uri": "https://localhost:8080/"
        },
        "id": "Xyx1uMIaEMBi",
        "outputId": "64bd2933-6915-4152-a9ca-d948b3d0aaea"
      },
      "execution_count": 20,
      "outputs": [
        {
          "output_type": "stream",
          "name": "stdout",
          "text": [
            "prince  -  princess  ==  king  -  queen\n",
            "\n",
            "all guessed vals: \n",
            "king\n",
            "monarch\n",
            "princes\n",
            "royal\n",
            "royals\n",
            "Prince_Charles\n",
            "duchess\n",
            "palace\n",
            "Queen_Elizabeth_II\n",
            "Queen_Consort\n"
          ]
        }
      ]
    },
    {
      "cell_type": "code",
      "source": [
        "def nearest_neighours(w):\n",
        "  r=word_vec.most_similar(positive=[w],topn=20)\n",
        "  for rr in r:\n",
        "    print(rr[0])"
      ],
      "metadata": {
        "id": "HGFNBqX1JFpA"
      },
      "execution_count": 21,
      "outputs": []
    },
    {
      "cell_type": "code",
      "source": [
        "nearest_neighours('obama')"
      ],
      "metadata": {
        "colab": {
          "base_uri": "https://localhost:8080/"
        },
        "id": "Od2yqVRPJS_6",
        "outputId": "6dba6be3-0b5c-47d4-ccb0-5e549ac2ed08"
      },
      "execution_count": 22,
      "outputs": [
        {
          "output_type": "stream",
          "name": "stdout",
          "text": [
            "mccain\n",
            "hillary\n",
            "obamas\n",
            "george_bush\n",
            "barack_obama\n",
            "palin\n",
            "clinton\n",
            "clintons\n",
            "sarah_palin\n",
            "john_mccain\n",
            "barack\n",
            "gop\n",
            "biden\n",
            "dick_cheney\n",
            "dems\n",
            "repubs\n",
            "BHO\n",
            "hillary_clinton\n",
            "reid\n",
            "reagan\n"
          ]
        }
      ]
    },
    {
      "cell_type": "code",
      "source": [],
      "metadata": {
        "id": "4HX-2o9qg5by"
      },
      "execution_count": null,
      "outputs": []
    }
  ]
}